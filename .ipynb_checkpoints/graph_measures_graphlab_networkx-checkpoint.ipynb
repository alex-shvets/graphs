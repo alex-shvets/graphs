{
 "cells": [
  {
   "cell_type": "markdown",
   "metadata": {},
   "source": [
    "## graph measures"
   ]
  },
  {
   "cell_type": "code",
   "execution_count": null,
   "metadata": {
    "collapsed": true
   },
   "outputs": [],
   "source": [
    "#scipy.sparse.csgraph\n",
    "import graphlab\n",
    "from graphlab import SGraph\n",
    "graphlab.canvas.set_target('ipynb')\n",
    "import matplotlib.pyplot as plt\n",
    "import seaborn as sns\n",
    "import networkx as nx\n",
    "import pandas as pd\n",
    "import os.path\n",
    "import itertools\n",
    "\n",
    "def get_graph_measures(mgraph):\n",
    "    summary = {}\n",
    "    suppl = {}\n",
    "    summary[\"num_nodes\"] = int(len(mgraph.vertices))\n",
    "\n",
    "    def in_degree(graph, top_num):\n",
    "        dgcount = graphlab.degree_counting.create(graph)\n",
    "        dgc_vert = dgcount['graph'].vertices.sort(\"in_degree\", False)\n",
    "        top_set = dgc_vert[\"__id\"][0:top_num]\n",
    "        return dgcount, top_set\n",
    "\n",
    "    dgcount, top_set_dg = in_degree(mgraph, top_num = 50)\n",
    "\n",
    "    def convert_graphlab_to_nx(graph, di):\n",
    "        nxgraph = nx.DiGraph() if di else nx.Graph()\n",
    "        nxgraph.add_nodes_from(list(graph.vertices['__id']))\n",
    "        nxgraph.add_edges_from([(e['__src_id'], e['__dst_id']) for e in graph.edges])\n",
    "        return nxgraph\n",
    "\n",
    "    nxmgraph = convert_graphlab_to_nx(mgraph, di=False)\n",
    "    nxdeg = nxmgraph.degree()\n",
    "\n",
    "    summary[\"in_degree_avg\"] = 1.0*sum(dgcount[\"graph\"].vertices[\"in_degree\"])/len(dgcount[\"graph\"].vertices)       \n",
    "    summary[\"in_degree_max\"] = max(dgcount[\"graph\"].vertices[\"in_degree\"])        \n",
    "    summary[\"degree_avg_undirected\"] = 1.0*sum(nxdeg.values())/len(nxdeg)\n",
    "    summary[\"degree_max_undirected\"] = max(nxdeg.values())\n",
    "    suppl[\"top_in_degree\"] = top_set_dg\n",
    "    \n",
    "    def pagerank(graph, top_num):\n",
    "        pr = graphlab.pagerank.create(graph)\n",
    "        pr_sort = pr['pagerank'].sort(\"pagerank\", False)\n",
    "        top_set = pr_sort[\"__id\"][0:top_num]\n",
    "        return pr, top_set\n",
    "\n",
    "    prank, top_pagerank = pagerank(mgraph, top_num = 100)\n",
    "    suppl[\"top_pagerank\"] = top_pagerank\n",
    "\n",
    "    gcolor = graphlab.graph_coloring.create(mgraph)\n",
    "    summary[\"upper_bound_num_colors\"] = gcolor.num_colors\n",
    "\n",
    "    def connected_components(graph, visualisation = False):\n",
    "        cc = graphlab.connected_components.create(graph)\n",
    "        cc_sort = cc.component_size.sort(\"Count\", False)\n",
    "        #print(cc.summary())\n",
    "        if(visualisation):\n",
    "            cc_grouped = cc_sort.groupby(\"Count\", {\"total\" : graphlab.aggregate.COUNT})\n",
    "            cc_grouped = cc_grouped.sort(\"Count\")\n",
    "            y_pos = range(cc_grouped.num_rows())\n",
    "            plt.barh(y_pos, cc_grouped[\"total\"], align='center', alpha=0.8)\n",
    "            plt.yticks(y_pos, cc_grouped[\"Count\"])\n",
    "            plt.xlabel(\"number of components\")\n",
    "            plt.title(\"number of components of each size\")\n",
    "            plt.show()\n",
    "        max_component_size = cc_sort[\"Count\"][0]\n",
    "        graph.vertices['component_id'] = cc['graph'].vertices['component_id']\n",
    "        targets = cc[\"graph\"].get_vertices(fields={\"component_id\":cc_sort[\"component_id\"][0]})[\"__id\"]\n",
    "        max_component = graph.get_neighborhood(ids=targets, radius=1, full_subgraph=True)\n",
    "        return cc, max_component, max_component_size\n",
    "\n",
    "    cc, max_cc, max_cc_size = connected_components(mgraph, visualisation = True)\n",
    "    suppl[\"max_cc\"] = max_cc\n",
    "    summary[\"max_cc_size\"] = max_cc_size\n",
    "    summary[\"max_cc_relative_size\"] = 1.0*max_cc_size/mgraph.summary()['num_vertices']\n",
    "\n",
    "    tc = graphlab.triangle_counting.create(max_cc)\n",
    "    tc_num = tc['num_triangles']\n",
    "    tcount = tc['triangle_count']\n",
    "    #print(tc_num)\n",
    "    #tcount = tcount.sort('triangle_count', False)\n",
    "    #print(tcount[\"triangle_count\"][0]) - maximal number of triangles for a node\n",
    "    tcount_not_in_triangles = tcount.filter_by(0, \"triangle_count\")\n",
    "    summary[\"num_triangles_in_max_cc\"] = tc_num\n",
    "    summary[\"relnum_nodes_form_triangles_in_cc\"] = tcount.num_rows() - tcount_not_in_triangles.num_rows()\n",
    "\n",
    "    def k_core(graph):\n",
    "        kc = graphlab.kcore.create(graph,0,1000)\n",
    "        kcore_id = kc['core_id']\n",
    "        max_k = max(kcore_id[\"core_id\"])\n",
    "        kcore_id[\"max\"] = [True if (kcore_id[\"core_id\"][i] == max_k) else False for i in xrange(kcore_id.num_rows())]\n",
    "        kcore_id = kcore_id.filter_by(True, \"max\")\n",
    "        return max_k, kcore_id.num_rows()\n",
    "\n",
    "    max_k, max_core_size = k_core(mgraph)\n",
    "    summary[\"num_cores\"] = max_k\n",
    "    summary[\"rel_max_core_size\"] = 1.0*max_core_size/max_cc_size\n",
    "\n",
    "    nx_max_cc = convert_graphlab_to_nx(max_cc, di=False)\n",
    "    avg_clust = nx.average_clustering(nx_max_cc)\n",
    "    summary[\"avg_clust_coef\"] = avg_clust\n",
    "\n",
    "    return summary, suppl\n"
   ]
  },
  {
   "cell_type": "markdown",
   "metadata": {},
   "source": [
    "## example"
   ]
  },
  {
   "cell_type": "code",
   "execution_count": null,
   "metadata": {
    "collapsed": true
   },
   "outputs": [],
   "source": [
    "graphid = 0\n",
    "path = \"mygraph\"\n",
    "mgraph = graphlab.load_sgraph(path)\n",
    "summary, suppl = get_graph_measures(mgraph)\n",
    "summary[\"graph_id\"] = int(graphid)\n",
    "suppl[\"max_cc\"].save(\"max_cc_\"+(\"graph_%s\" % str(graphid)), format=\"csv\")\n",
    "for v in summary:\n",
    "    summary[v] = [summary[v]]\n",
    "sf = graphlab.SFrame(summary)\n",
    "sf.save(\"summary_main\")\n",
    "sf"
   ]
  },
  {
   "cell_type": "markdown",
   "metadata": {},
   "source": [
    "## combine with Networkit results"
   ]
  },
  {
   "cell_type": "code",
   "execution_count": null,
   "metadata": {
    "collapsed": true
   },
   "outputs": [],
   "source": [
    "import cPickle\n",
    "import graphlab\n",
    "from graphlab import SGraph\n",
    "graphlab.canvas.set_target('ipynb')\n",
    "import matplotlib.pyplot as plt\n",
    "import seaborn as sns\n",
    "import networkx as nx\n",
    "import pandas as pd\n",
    "\n",
    "#summary_name = \"summary_main\"\n",
    "#summ_ntwk = \"summary_networkit.pckl\"\n",
    "#save_name = \"graph_measures\"\n",
    "\n",
    "def combine_with_networkit(summary_name, summ_ntwk, save_name):\n",
    "    sf_main = graphlab.load_sframe(summary_name)\n",
    "    df_main = pd.read_pickle(summ_ntwk)\n",
    "    df_main[\"graph_id\"] = df_main[\"graph_id\"].astype(int)\n",
    "    sf_main1 = graphlab.SFrame(data=df_main)\n",
    "    if(len(set(sf_main.column_names()).intersection(set(sf_main1.column_names())))>1):\n",
    "        print(\"Sframes to combine have more than 1 equal column\")\n",
    "        return\n",
    "    if(not \"graph_id\" in sf_main.column_names()):\n",
    "        print(\"First sframe does not have the column graph_id\")\n",
    "        return\n",
    "    sf_main = sf_main.join(sf_main1, how = \"inner\")\n",
    "    sf_main = sf_main.sort(\"graph_id\")\n",
    "    sf_main.save(save_name)\n",
    "    df_main = sf_main.to_dataframe()\n",
    "    df_main.to_csv(save_name+'.csv',index=False)\n",
    "    df_main.to_excel(save_name+'.xls',index=False)\n",
    "    return"
   ]
  },
  {
   "cell_type": "code",
   "execution_count": null,
   "metadata": {
    "collapsed": true
   },
   "outputs": [],
   "source": [
    "combine_with_networkit(\"summary_main\", \"summary_networkit.pckl\", \"graph_measures\")"
   ]
  },
  {
   "cell_type": "code",
   "execution_count": null,
   "metadata": {
    "collapsed": true
   },
   "outputs": [],
   "source": [
    "def main(summary_name_, graph_ids):\n",
    "    upfolder_ccs = \"max_ccs\"\n",
    "    upfolder = \"my_sgraphs\"\n",
    "\n",
    "    summary_name = summary_name_\n",
    "\n",
    "    sf_main = graphlab.SFrame()\n",
    "    if os.path.exists(summary_name):\n",
    "        sf_main = graphlab.load_sframe(summary_name)\n",
    "\n",
    "    for graphid in graph_ids:\n",
    "        try:\n",
    "            if(\"graph_id\" in sf_main.column_names())and(int(graphid) in list(sf_main[\"graph_id\"])):\n",
    "                print(graphid, \"graph has already been analyzed\")\n",
    "                continue\n",
    "            gid_str = str(graphid)\n",
    "            print(\"analysis of the graph %s\" % gid_str)          \n",
    "            cur_sgraph = graphlab.load_sgraph(upfolder+\"\\\\sgraph_\"+gid_str)\n",
    "            \n",
    "            summary = {}\n",
    "            suppl = {}\n",
    "            summary, suppl = get_graph_measures(cur_sgraph)\n",
    "            summary[\"graph_id\"] = int(graphid)\n",
    "            suppl[\"max_cc\"].save(upfolder_ccs+\"\\\\max_cc_\"+(\"graph_%s\" % gid_str), format=\"csv\")\n",
    "            \n",
    "            for v in summary:\n",
    "                summary[v] = [summary[v]]\n",
    "            sf = graphlab.SFrame(summary)\n",
    "            sf_main = sf_main.append(sf)\n",
    "            sf_main.save(summary_name)\n",
    "            sf_main.save(summary_name+\"_csv\", format=\"csv\")\n",
    "        except:\n",
    "            continue"
   ]
  },
  {
   "cell_type": "code",
   "execution_count": null,
   "metadata": {
    "collapsed": true
   },
   "outputs": [],
   "source": [
    "main(summary_name_ = \"summary_main\", graph_ids = range(10))"
   ]
  }
 ],
 "metadata": {
  "kernelspec": {
   "display_name": "Python [default]",
   "language": "python",
   "name": "python2"
  },
  "language_info": {
   "codemirror_mode": {
    "name": "ipython",
    "version": 2
   },
   "file_extension": ".py",
   "mimetype": "text/x-python",
   "name": "python",
   "nbconvert_exporter": "python",
   "pygments_lexer": "ipython2",
   "version": "2.7.12"
  }
 },
 "nbformat": 4,
 "nbformat_minor": 1
}
